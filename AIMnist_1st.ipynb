{
 "cells": [
  {
   "cell_type": "code",
   "execution_count": 77,
   "id": "e644ea36-dc5b-4c04-bc3f-25f265e57a07",
   "metadata": {},
   "outputs": [],
   "source": [
    "import torch\n",
    "import torchvision\n",
    "import torchvision.transforms as transforms\n",
    "\n",
    "device = torch.device(\"mps\")"
   ]
  },
  {
   "cell_type": "code",
   "execution_count": 78,
   "id": "54ba4848-1cfe-40ab-87d6-ccec7b22bcee",
   "metadata": {},
   "outputs": [],
   "source": [
    "transform = transforms.ToTensor()\n",
    "\n",
    "trainset = torchvision.datasets.MNIST(\n",
    "    root='./data/train',\n",
    "    train=True,\n",
    "    download=True,\n",
    "    transform=transform\n",
    ")\n",
    "\n",
    "testset = torchvision.datasets.MNIST(\n",
    "    root='./data/test',\n",
    "    train=False,\n",
    "    download=True,\n",
    "    transform=transform\n",
    ")"
   ]
  },
  {
   "cell_type": "code",
   "execution_count": 79,
   "id": "4aff64c9-9a11-4a4a-a5fc-6956d54bc90e",
   "metadata": {},
   "outputs": [
    {
     "name": "stdout",
     "output_type": "stream",
     "text": [
      "60000\n",
      "torch.Size([1, 28, 28]) 5\n"
     ]
    },
    {
     "data": {
      "text/plain": [
       "<matplotlib.image.AxesImage at 0x291598380>"
      ]
     },
     "execution_count": 79,
     "metadata": {},
     "output_type": "execute_result"
    },
    {
     "data": {
      "image/png": "[encoded data removed]",
      "text/plain": [
       "<Figure size 640x480 with 1 Axes>"
      ]
     },
     "metadata": {},
     "output_type": "display_data"
    }
   ],
   "source": [
    "from matplotlib import pyplot as plt\n",
    "\n",
    "\n",
    "print(len(trainset))\n",
    "print(trainset[0][0].shape, trainset[0][1])\n",
    "plt.imshow(trainset[0][0][0], cmap='gray')"
   ]
  },
  {
   "cell_type": "code",
   "execution_count": 80,
   "id": "98f60056-9563-4f71-881d-dd70769e4350",
   "metadata": {},
   "outputs": [],
   "source": [
    "batch_size = 256\n",
    "\n",
    "trainloader = torch.utils.data.DataLoader(\n",
    "    trainset,\n",
    "    batch_size=batch_size,\n",
    "    shuffle=True\n",
    ")\n",
    "\n",
    "testloader = torch.utils.data.DataLoader(\n",
    "    testset,\n",
    "    batch_size=batch_size,\n",
    "    shuffle=False\n",
    ")"
   ]
  },
  {
   "cell_type": "code",
   "execution_count": 81,
   "id": "9b82833d-df56-49e8-a388-046a9eb87db1",
   "metadata": {},
   "outputs": [
    {
     "name": "stdout",
     "output_type": "stream",
     "text": [
      "torch.Size([256, 1, 28, 28]) torch.Size([256])\n"
     ]
    }
   ],
   "source": [
    "dataiter = iter(trainloader)\n",
    "images, labels = next(dataiter)\n",
    "print(images.shape, labels.shape)"
   ]
  },
  {
   "cell_type": "code",
   "execution_count": 82,
   "id": "ecc7f209-720f-43f1-84be-28b5f925783b",
   "metadata": {},
   "outputs": [],
   "source": [
    "def accuracy(model, dataloader):\n",
    "  cnt = 0\n",
    "  acc = 0\n",
    "\n",
    "  for data in dataloader:\n",
    "    inputs, labels = data\n",
    "    inputs, labels = inputs.to(device), labels.to(device)\n",
    "\n",
    "    preds = model(inputs)\n",
    "    preds = torch.argmax(preds, dim=-1)\n",
    "\n",
    "    cnt += labels.shape[0]\n",
    "    acc += (labels == preds).sum().item()\n",
    "\n",
    "  return acc / cnt"
   ]
  },
  {
   "cell_type": "code",
   "execution_count": 83,
   "id": "193d50fc-ef00-4752-85f2-ddd088f680d2",
   "metadata": {},
   "outputs": [],
   "source": [
    "from torch import nn\n",
    "\n",
    "\n",
    "class Model(nn.Module):\n",
    "    def __init__(self, input_dim, num_dim, num_classes):\n",
    "        super().__init__()\n",
    "\n",
    "        self.layer1 = nn.Linear(input_dim, num_dim)\n",
    "        self.layer2 = nn.Linear(num_dim, num_dim)\n",
    "        self.layer3 = nn.Linear(num_dim, num_classes)  \n",
    "\n",
    "        self.act = nn.ReLU()\n",
    "\n",
    "    def forward(self, x):\n",
    "        x = torch.flatten(x, start_dim=1)  \n",
    "        x = self.act(self.layer1(x))       \n",
    "        x = self.act(self.layer2(x))       \n",
    "        x = self.layer3(x)                 \n",
    "        return x\n",
    "\n",
    "\n",
    "model = Model(28 * 28 * 1, 1024, 10)"
   ]
  },
  {
   "cell_type": "code",
   "execution_count": 84,
   "id": "9fe7ccd3-e44e-4f30-8347-af81cf6181c3",
   "metadata": {},
   "outputs": [],
   "source": [
    "from torch.optim import SGD\n",
    "\n",
    "lr = 0.001\n",
    "model = model.to(device)\n",
    "\n",
    "criterion = nn.CrossEntropyLoss()\n",
    "\n",
    "optimizer = SGD(model.parameters(), lr=lr)"
   ]
  },
  {
   "cell_type": "code",
   "execution_count": 85,
   "id": "df37c118-7940-4ca2-b16e-0f2e191a5f62",
   "metadata": {},
   "outputs": [
    {
     "name": "stdout",
     "output_type": "stream",
     "text": [
      "Epoch   1 | Train Acc: 0.225 | Test Acc: 0.226\n",
      "Epoch   2 | Train Acc: 0.347 | Test Acc: 0.351\n",
      "Epoch   3 | Train Acc: 0.433 | Test Acc: 0.441\n",
      "Epoch   4 | Train Acc: 0.512 | Test Acc: 0.521\n",
      "Epoch   5 | Train Acc: 0.569 | Test Acc: 0.577\n",
      "Epoch   6 | Train Acc: 0.604 | Test Acc: 0.610\n",
      "Epoch   7 | Train Acc: 0.628 | Test Acc: 0.634\n",
      "Epoch   8 | Train Acc: 0.644 | Test Acc: 0.653\n",
      "Epoch   9 | Train Acc: 0.657 | Test Acc: 0.666\n",
      "Epoch  10 | Train Acc: 0.669 | Test Acc: 0.676\n",
      "Epoch  11 | Train Acc: 0.679 | Test Acc: 0.688\n",
      "Epoch  12 | Train Acc: 0.688 | Test Acc: 0.696\n",
      "Epoch  13 | Train Acc: 0.696 | Test Acc: 0.705\n",
      "Epoch  14 | Train Acc: 0.704 | Test Acc: 0.712\n",
      "Epoch  15 | Train Acc: 0.711 | Test Acc: 0.718\n",
      "Epoch  16 | Train Acc: 0.717 | Test Acc: 0.722\n",
      "Epoch  17 | Train Acc: 0.723 | Test Acc: 0.730\n",
      "Epoch  18 | Train Acc: 0.728 | Test Acc: 0.738\n",
      "Epoch  19 | Train Acc: 0.735 | Test Acc: 0.744\n",
      "Epoch  20 | Train Acc: 0.744 | Test Acc: 0.753\n",
      "Epoch  21 | Train Acc: 0.754 | Test Acc: 0.765\n",
      "Epoch  22 | Train Acc: 0.765 | Test Acc: 0.777\n",
      "Epoch  23 | Train Acc: 0.775 | Test Acc: 0.786\n",
      "Epoch  24 | Train Acc: 0.784 | Test Acc: 0.793\n",
      "Epoch  25 | Train Acc: 0.792 | Test Acc: 0.800\n",
      "Epoch  26 | Train Acc: 0.800 | Test Acc: 0.807\n",
      "Epoch  27 | Train Acc: 0.806 | Test Acc: 0.812\n",
      "Epoch  28 | Train Acc: 0.811 | Test Acc: 0.817\n",
      "Epoch  29 | Train Acc: 0.817 | Test Acc: 0.822\n",
      "Epoch  30 | Train Acc: 0.820 | Test Acc: 0.825\n",
      "Epoch  31 | Train Acc: 0.824 | Test Acc: 0.828\n",
      "Epoch  32 | Train Acc: 0.828 | Test Acc: 0.832\n",
      "Epoch  33 | Train Acc: 0.832 | Test Acc: 0.837\n",
      "Epoch  34 | Train Acc: 0.836 | Test Acc: 0.841\n",
      "Epoch  35 | Train Acc: 0.839 | Test Acc: 0.843\n",
      "Epoch  36 | Train Acc: 0.841 | Test Acc: 0.845\n",
      "Epoch  37 | Train Acc: 0.844 | Test Acc: 0.849\n",
      "Epoch  38 | Train Acc: 0.847 | Test Acc: 0.852\n",
      "Epoch  39 | Train Acc: 0.849 | Test Acc: 0.855\n",
      "Epoch  40 | Train Acc: 0.852 | Test Acc: 0.856\n",
      "Epoch  41 | Train Acc: 0.854 | Test Acc: 0.859\n",
      "Epoch  42 | Train Acc: 0.856 | Test Acc: 0.861\n",
      "Epoch  43 | Train Acc: 0.858 | Test Acc: 0.862\n",
      "Epoch  44 | Train Acc: 0.860 | Test Acc: 0.865\n",
      "Epoch  45 | Train Acc: 0.862 | Test Acc: 0.866\n",
      "Epoch  46 | Train Acc: 0.864 | Test Acc: 0.868\n",
      "Epoch  47 | Train Acc: 0.866 | Test Acc: 0.870\n",
      "Epoch  48 | Train Acc: 0.868 | Test Acc: 0.871\n",
      "Epoch  49 | Train Acc: 0.869 | Test Acc: 0.873\n",
      "Epoch  50 | Train Acc: 0.870 | Test Acc: 0.875\n",
      "Epoch  51 | Train Acc: 0.871 | Test Acc: 0.876\n",
      "Epoch  52 | Train Acc: 0.872 | Test Acc: 0.877\n",
      "Epoch  53 | Train Acc: 0.873 | Test Acc: 0.878\n",
      "Epoch  54 | Train Acc: 0.874 | Test Acc: 0.880\n",
      "Epoch  55 | Train Acc: 0.876 | Test Acc: 0.881\n",
      "Epoch  56 | Train Acc: 0.877 | Test Acc: 0.882\n",
      "Epoch  57 | Train Acc: 0.878 | Test Acc: 0.883\n",
      "Epoch  58 | Train Acc: 0.880 | Test Acc: 0.884\n",
      "Epoch  59 | Train Acc: 0.880 | Test Acc: 0.885\n",
      "Epoch  60 | Train Acc: 0.881 | Test Acc: 0.885\n",
      "Epoch  61 | Train Acc: 0.882 | Test Acc: 0.886\n",
      "Epoch  62 | Train Acc: 0.883 | Test Acc: 0.887\n",
      "Epoch  63 | Train Acc: 0.883 | Test Acc: 0.888\n",
      "Epoch  64 | Train Acc: 0.884 | Test Acc: 0.889\n",
      "Epoch  65 | Train Acc: 0.885 | Test Acc: 0.890\n",
      "Epoch  66 | Train Acc: 0.885 | Test Acc: 0.890\n",
      "Epoch  67 | Train Acc: 0.886 | Test Acc: 0.891\n",
      "Epoch  68 | Train Acc: 0.887 | Test Acc: 0.891\n",
      "Epoch  69 | Train Acc: 0.888 | Test Acc: 0.892\n",
      "Epoch  70 | Train Acc: 0.888 | Test Acc: 0.893\n",
      "Epoch  71 | Train Acc: 0.889 | Test Acc: 0.894\n",
      "Epoch  72 | Train Acc: 0.889 | Test Acc: 0.895\n",
      "Epoch  73 | Train Acc: 0.890 | Test Acc: 0.894\n",
      "Epoch  74 | Train Acc: 0.891 | Test Acc: 0.896\n",
      "Epoch  75 | Train Acc: 0.891 | Test Acc: 0.896\n",
      "Epoch  76 | Train Acc: 0.892 | Test Acc: 0.895\n",
      "Epoch  77 | Train Acc: 0.892 | Test Acc: 0.897\n",
      "Epoch  78 | Train Acc: 0.893 | Test Acc: 0.897\n",
      "Epoch  79 | Train Acc: 0.893 | Test Acc: 0.897\n",
      "Epoch  80 | Train Acc: 0.893 | Test Acc: 0.898\n",
      "Epoch  81 | Train Acc: 0.894 | Test Acc: 0.898\n",
      "Epoch  82 | Train Acc: 0.894 | Test Acc: 0.898\n",
      "Epoch  83 | Train Acc: 0.895 | Test Acc: 0.898\n",
      "Epoch  84 | Train Acc: 0.895 | Test Acc: 0.899\n",
      "Epoch  85 | Train Acc: 0.895 | Test Acc: 0.899\n",
      "Epoch  86 | Train Acc: 0.896 | Test Acc: 0.899\n",
      "Epoch  87 | Train Acc: 0.896 | Test Acc: 0.900\n",
      "Epoch  88 | Train Acc: 0.897 | Test Acc: 0.900\n",
      "Epoch  89 | Train Acc: 0.897 | Test Acc: 0.900\n",
      "Epoch  90 | Train Acc: 0.898 | Test Acc: 0.900\n",
      "Epoch  91 | Train Acc: 0.898 | Test Acc: 0.901\n",
      "Epoch  92 | Train Acc: 0.898 | Test Acc: 0.901\n",
      "Epoch  93 | Train Acc: 0.899 | Test Acc: 0.902\n",
      "Epoch  94 | Train Acc: 0.899 | Test Acc: 0.902\n",
      "Epoch  95 | Train Acc: 0.899 | Test Acc: 0.902\n",
      "Epoch  96 | Train Acc: 0.900 | Test Acc: 0.902\n",
      "Epoch  97 | Train Acc: 0.900 | Test Acc: 0.903\n",
      "Epoch  98 | Train Acc: 0.900 | Test Acc: 0.903\n",
      "Epoch  99 | Train Acc: 0.901 | Test Acc: 0.903\n",
      "Epoch 100 | Train Acc: 0.901 | Test Acc: 0.904\n"
     ]
    }
   ],
   "source": [
    "\n",
    "num_epochs = 100\n",
    "train_accuracies = []\n",
    "test_accuracies = []\n",
    "\n",
    "for epoch in range(num_epochs):\n",
    "  start_time = time.time()  # 에포크 시작 시간 기록\n",
    "  total_loss = 0.\n",
    "  model.train()  # 학습 모드\n",
    "\n",
    "  for data in trainloader:\n",
    "    model.zero_grad()\n",
    "    inputs, labels = data\n",
    "    inputs, labels = inputs.to(device), labels.to(device)\n",
    "\n",
    "    preds = model(inputs)\n",
    "    loss = criterion(preds, labels)\n",
    "    loss.backward()\n",
    "    optimizer.step()\n",
    "\n",
    "    total_loss += loss.item()\n",
    "\n",
    "  with torch.no_grad():\n",
    "    model.eval()  # 평가 모드\n",
    "    train_acc = accuracy(model, trainloader)  # 학습 데이터 정확도\n",
    "    test_acc = accuracy(model, testloader)    # 테스트 데이터 정확도\n",
    "\n",
    "  train_accuracies.append(train_acc)\n",
    "  test_accuracies.append(test_acc)\n",
    "\n",
    "  print(f\"Epoch {epoch+1:3d} |\"\n",
    "        f\" Train Acc: {train_acc:.3f} |\"\n",
    "        f\" Test Acc: {test_acc:.3f}\")"
   ]
  },
  {
   "cell_type": "code",
   "execution_count": 86,
   "id": "a53b2308-5848-4b6d-b711-def195035da8",
   "metadata": {},
   "outputs": [
    {
     "data": {
      "image/png": "[encoded data removed]",
      "text/plain": [
       "<Figure size 640x480 with 1 Axes>"
      ]
     },
     "metadata": {},
     "output_type": "display_data"
    }
   ],
   "source": [
    "import numpy as np\n",
    "\n",
    "def plot_acc(train_accuracies, test_accuracies, label1='train', label2='test'):\n",
    "  x = np.arange(len(train_accuracies))\n",
    "\n",
    "  plt.plot(x, train_accuracies, label=label1)\n",
    "  plt.plot(x, test_accuracies, label=label2)\n",
    "  plt.legend()\n",
    "  plt.show()\n",
    "\n",
    "plot_acc(train_accuracies, test_accuracies)"
   ]
  },
  {
   "cell_type": "code",
   "execution_count": null,
   "id": "17d595e5-bdb9-4522-ace8-6b522f5cdee4",
   "metadata": {},
   "outputs": [],
   "source": []
  },
  {
   "cell_type": "code",
   "execution_count": null,
   "id": "dad5ce08-47ae-4712-9130-600108764205",
   "metadata": {},
   "outputs": [],
   "source": []
  },
  {
   "cell_type": "code",
   "execution_count": null,
   "id": "b6727bd3-0242-4ade-9a53-b557330f9f6f",
   "metadata": {},
   "outputs": [],
   "source": []
  },
  {
   "cell_type": "code",
   "execution_count": null,
   "id": "c7fb8d21-3506-411a-9677-f310009816c7",
   "metadata": {},
   "outputs": [],
   "source": []
  }
 ],
 "metadata": {
  "kernelspec": {
   "display_name": "Python 3 (ipykernel)",
   "language": "python",
   "name": "python3"
  },
  "language_info": {
   "codemirror_mode": {
    "name": "ipython",
    "version": 3
   },
   "file_extension": ".py",
   "mimetype": "text/x-python",
   "name": "python",
   "nbconvert_exporter": "python",
   "pygments_lexer": "ipython3",
   "version": "3.12.7"
  }
 },
 "nbformat": 4,
 "nbformat_minor": 5
}
